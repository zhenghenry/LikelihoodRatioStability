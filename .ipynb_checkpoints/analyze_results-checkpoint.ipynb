{
 "cells": [
  {
   "cell_type": "code",
   "execution_count": 3,
   "id": "1358ca15-2692-49cf-abee-cd68b251480a",
   "metadata": {},
   "outputs": [
    {
     "name": "stdout",
     "output_type": "stream",
     "text": [
      "Requirement already satisfied: pandas in /usr/local/lib/python3.10/dist-packages (2.2.3)\n",
      "Requirement already satisfied: numpy>=1.22.4 in /usr/local/lib/python3.10/dist-packages (from pandas) (1.24.1)\n",
      "Requirement already satisfied: python-dateutil>=2.8.2 in /usr/local/lib/python3.10/dist-packages (from pandas) (2.8.2)\n",
      "Requirement already satisfied: pytz>=2020.1 in /usr/local/lib/python3.10/dist-packages (from pandas) (2024.2)\n",
      "Requirement already satisfied: tzdata>=2022.7 in /usr/local/lib/python3.10/dist-packages (from pandas) (2024.2)\n",
      "Requirement already satisfied: six>=1.5 in /usr/lib/python3/dist-packages (from python-dateutil>=2.8.2->pandas) (1.16.0)\n",
      "\u001b[33mWARNING: Running pip as the 'root' user can result in broken permissions and conflicting behaviour with the system package manager. It is recommended to use a virtual environment instead: https://pip.pypa.io/warnings/venv\u001b[0m\u001b[33m\n",
      "\u001b[0m\n",
      "\u001b[1m[\u001b[0m\u001b[34;49mnotice\u001b[0m\u001b[1;39;49m]\u001b[0m\u001b[39;49m A new release of pip is available: \u001b[0m\u001b[31;49m23.3.1\u001b[0m\u001b[39;49m -> \u001b[0m\u001b[32;49m24.3.1\u001b[0m\n",
      "\u001b[1m[\u001b[0m\u001b[34;49mnotice\u001b[0m\u001b[1;39;49m]\u001b[0m\u001b[39;49m To update, run: \u001b[0m\u001b[32;49mpython -m pip install --upgrade pip\u001b[0m\n"
     ]
    }
   ],
   "source": [
    "import pickle\n",
    "import numpy as np\n",
    "!pip install pandas \n",
    "import pandas as pd\n",
    "\n",
    "file_name = 'scan_mlc_ECD_results'\n",
    "\n",
    "with open('models/zenodo/mlc/' + file_name + '.pkl', 'rb') as fout:\n",
    "    results = pickle.load(fout)\n",
    "    fout.close()"
   ]
  },
  {
   "cell_type": "code",
   "execution_count": 2,
   "id": "320a691f-bc9d-4e6e-b879-73a509b27e0f",
   "metadata": {},
   "outputs": [
    {
     "name": "stdout",
     "output_type": "stream",
     "text": [
      "0.4123904 1.0 0.1 linear\n",
      "0.40586933 1.0 0.1 linear\n",
      "0.4118653 1.0 0.1 linear\n",
      "0.4098149 1.0 0.1 linear\n",
      "0.40839195 1.0 0.1 linear\n",
      "0.41425154 1.0 0.001 linear\n",
      "0.41021952 1.0 0.001 linear\n",
      "0.40536264 1.0 0.001 linear\n",
      "0.40586296 1.0 0.001 linear\n",
      "0.41026628 1.0 0.001 linear\n",
      "0.40878063 1.0 0.001 square\n",
      "0.41714403 1.0 0.001 square\n",
      "0.40841204 1.0 0.001 square\n",
      "0.41416627 1.0 0.001 square\n",
      "0.407853 1.0 0.001 square\n",
      "0.40494868 1.0 0.001 exponl\n",
      "0.3992748 1.0 0.001 exponl\n",
      "0.40725762 1.0 0.001 exponl\n",
      "0.40110284 1.0 0.001 exponl\n",
      "0.4009061 1.0 0.001 exponl\n",
      "0.41425154 1.0 0.001 linear\n",
      "0.41021952 1.0 0.001 linear\n",
      "0.40536264 1.0 0.001 linear\n",
      "0.40586296 1.0 0.001 linear\n",
      "0.41026628 1.0 0.001 linear\n",
      "0.40878063 1.0 0.001 square\n",
      "0.41714403 1.0 0.001 square\n",
      "0.40841204 1.0 0.001 square\n",
      "0.41416627 1.0 0.001 square\n",
      "0.407853 1.0 0.001 square\n",
      "0.40494868 1.0 0.001 exponl\n",
      "0.3992748 1.0 0.001 exponl\n",
      "0.40725762 1.0 0.001 exponl\n",
      "0.40110284 1.0 0.001 exponl\n",
      "0.4009061 1.0 0.001 exponl\n",
      "0.4169517 1.0 0 linear\n",
      "0.41441151 1.0 0 linear\n",
      "0.40576583 1.0 0 linear\n",
      "0.4072677 1.0 0 linear\n",
      "0.4061974 1.0 0 linear\n",
      "0.41196322 1.0 0.0001 linear\n",
      "0.4072052 1.0 0.0001 linear\n",
      "nan 1.0 0.0001 linear\n",
      "0.40392962 1.0 0.0001 linear\n",
      "0.40457416 1.0 0.0001 linear\n",
      "0.4219033 1.0 1 linear\n",
      "0.42270744 1.0 1 linear\n",
      "0.42168084 1.0 1 linear\n",
      "0.42741796 1.0 1 linear\n",
      "nan 1.0 1 linear\n",
      "0.4106229 1.0 0 square\n",
      "28.317017 1.0 0 square\n",
      "0.41440615 1.0 0 square\n",
      "0.40777704 1.0 0 square\n",
      "0.41726178 1.0 0 square\n",
      "0.52380395 1.0 0.0001 square\n",
      "0.41009933 1.0 0.0001 square\n",
      "0.40450433 1.0 0.0001 square\n",
      "0.507383 1.0 0.0001 square\n",
      "0.41037697 1.0 0.0001 square\n",
      "0.4190989 1.0 1 square\n",
      "0.43711686 1.0 1 square\n",
      "0.534379 1.0 1 square\n",
      "0.42259324 1.0 1 square\n",
      "0.4203624 1.0 1 square\n",
      "0.40557462 1.0 0 exponl\n",
      "0.4024149 1.0 0 exponl\n",
      "0.40157935 1.0 0 exponl\n",
      "0.40650082 1.0 0 exponl\n",
      "0.40394592 1.0 0 exponl\n",
      "0.40216818 1.0 0.0001 exponl\n",
      "0.40212843 1.0 0.0001 exponl\n",
      "0.40147084 1.0 0.0001 exponl\n",
      "0.40382394 1.0 0.0001 exponl\n",
      "0.40200123 1.0 0.0001 exponl\n",
      "0.42068547 1.0 1 exponl\n",
      "0.41894907 1.0 1 exponl\n",
      "0.42003846 1.0 1 exponl\n",
      "0.41819614 1.0 1 exponl\n",
      "0.41986454 1.0 1 exponl\n",
      "0.41570395 1.0 1e-06 linear\n",
      "0.40651357 1.0 1e-06 linear\n",
      "0.40716788 1.0 1e-06 linear\n",
      "0.40646404 1.0 1e-06 linear\n",
      "0.41285563 1.0 1e-06 linear\n",
      "0.41055173 1.0 1e-05 linear\n",
      "0.42091322 1.0 1e-05 linear\n",
      "0.40913227 1.0 1e-05 linear\n",
      "0.40953034 1.0 1e-05 linear\n",
      "0.42577904 1.0 1e-05 linear\n",
      "0.4101449 1.0 1e-06 square\n",
      "0.41310483 1.0 1e-06 square\n",
      "0.41746017 1.0 1e-06 square\n",
      "0.41384244 1.0 1e-06 square\n",
      "0.46089298 1.0 1e-06 square\n",
      "0.40968326 1.0 1e-05 square\n",
      "0.41407213 1.0 1e-05 square\n",
      "0.4037444 1.0 1e-05 square\n",
      "0.41616148 1.0 1e-05 square\n",
      "0.41009864 1.0 1e-05 square\n",
      "0.40675253 1.0 1e-06 exponl\n",
      "0.40197316 1.0 1e-06 exponl\n",
      "0.40900782 1.0 1e-06 exponl\n",
      "0.40345067 1.0 1e-06 exponl\n",
      "0.40207022 1.0 1e-06 exponl\n",
      "0.4006832 1.0 1e-05 exponl\n",
      "0.4114121 1.0 1e-05 exponl\n",
      "0.40081254 1.0 1e-05 exponl\n",
      "0.40268043 1.0 1e-05 exponl\n",
      "0.41978848 1.0 1e-05 exponl\n"
     ]
    }
   ],
   "source": [
    "for result in results:\n",
    "    print(result['mae'], result['learning_rate'], result['nu'], result['classifier'])"
   ]
  },
  {
   "cell_type": "code",
   "execution_count": 18,
   "id": "9bc806b0-9995-4424-b02f-706f0e843602",
   "metadata": {},
   "outputs": [],
   "source": [
    "df = pd.DataFrame(results).groupby('classifier')"
   ]
  },
  {
   "cell_type": "code",
   "execution_count": 40,
   "id": "d98fda48-3ffb-45fa-8ae6-ca2b12a8464c",
   "metadata": {},
   "outputs": [],
   "source": [
    "from collections import defaultdict\n",
    "classifiers = ['linear', 'square', 'exponl']\n",
    "classifier_dict = dict(\n",
    "    linear = defaultdict(lambda: []),\n",
    "    square = defaultdict(lambda: []),\n",
    "    exponl = defaultdict(lambda: []),\n",
    ")\n",
    "for classifier in classifiers:\n",
    "    temp = df.get_group(classifier)\n",
    "    nu_vals = temp.nu.unique()\n",
    "    for nu_val in nu_vals:\n",
    "        classifier_dict[classifier][nu_val].append(temp[temp.nu == nu_val].mae.mean(skipna=True))\n",
    "    "
   ]
  },
  {
   "cell_type": "code",
   "execution_count": 64,
   "id": "7ccf50ec-7894-47b5-93e5-5f1aaa01af04",
   "metadata": {},
   "outputs": [
    {
     "data": {
      "image/png": "[encoded data removed]",
      "text/plain": [
       "<Figure size 640x480 with 1 Axes>"
      ]
     },
     "metadata": {},
     "output_type": "display_data"
    }
   ],
   "source": [
    "import matplotlib.pyplot as plt\n",
    "color_dict = dict(linear = '-ro', square = '-go', exponl = '-bo')\n",
    "\n",
    "plotted_labels = []\n",
    "for classifier in classifiers:\n",
    "    \n",
    "    for key in classifier_dict[classifier].keys():\n",
    "        if classifier not in plotted_labels:\n",
    "            plt.plot(key, classifier_dict[classifier][key], color_dict[classifier], label = classifier)\n",
    "        else:\n",
    "            plt.plot(key, classifier_dict[classifier][key], color_dict[classifier])\n",
    "        plotted_labels.append(classifier)\n",
    "plt.xlabel(r'$\\nu$')\n",
    "plt.ylabel('MAE')\n",
    "\n",
    "plt.grid()    \n",
    "plt.legend()\n",
    "plt.xscale('log')\n",
    "plt.ylim([0.4,0.42])\n",
    "plt.show()"
   ]
  },
  {
   "cell_type": "code",
   "execution_count": 62,
   "id": "d7c98f74-8403-40cf-8339-774a5d3460d5",
   "metadata": {},
   "outputs": [
    {
     "name": "stdout",
     "output_type": "stream",
     "text": [
      "0.41226387 0.01 0.1 linear\n",
      "0.4104655 0.01 0.1 linear\n",
      "0.40795794 0.01 0.1 linear\n",
      "0.40543067 0.01 0.1 linear\n",
      "0.41401988 0.01 0.1 linear\n"
     ]
    }
   ],
   "source": [
    "file_name = 'scan_mlc_adam_results'\n",
    "\n",
    "with open('models/zenodo/mlc/' + file_name + '.pkl', 'rb') as fout:\n",
    "    results = pickle.load(fout)\n",
    "    fout.close()\n",
    "for result in results:\n",
    "    print(result['mae'], result['learning_rate'], result['nu'], result['classifier'])"
   ]
  }
 ],
 "metadata": {
  "kernelspec": {
   "display_name": "Python 3 (ipykernel)",
   "language": "python",
   "name": "python3"
  },
  "language_info": {
   "codemirror_mode": {
    "name": "ipython",
    "version": 3
   },
   "file_extension": ".py",
   "mimetype": "text/x-python",
   "name": "python",
   "nbconvert_exporter": "python",
   "pygments_lexer": "ipython3",
   "version": "3.10.12"
  }
 },
 "nbformat": 4,
 "nbformat_minor": 5
}
