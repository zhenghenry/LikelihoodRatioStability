{
 "cells": [
  {
   "cell_type": "code",
   "execution_count": 2,
   "id": "964af9f7-5757-4337-9885-9a372e67ad1e",
   "metadata": {},
   "outputs": [],
   "source": [
    "# Utility imports\n",
    "# General imports\n",
    "import torch\n",
    "import torch.nn as nn\n",
    "import os\n",
    "# import tensorflow as tf\n",
    "from scipy import stats\n",
    "# Used for distributions libraries.\n",
    "from scipy import stats\n",
    "# Utility imports\n",
    "from utils.losses import *\n",
    "from utils.plotting import *\n",
    "from utils.training import *\n",
    "\n",
    "import pickle\n",
    "import sys\n",
    "from lightning.pytorch.accelerators import find_usable_cuda_devices\n"
   ]
  },
  {
   "cell_type": "code",
   "execution_count": 3,
   "id": "0a1f6f24-81f5-4790-a5cc-4cc27be258af",
   "metadata": {},
   "outputs": [
    {
     "name": "stdout",
     "output_type": "stream",
     "text": [
      "cuda\n"
     ]
    }
   ],
   "source": [
    "eta = 5e3\n",
    "lr_vals = [1.0]\n",
    "F0 = -1.\n",
    "nu_vals = [1e-6,1e-5]\n",
    "\n",
    "file_name = 'scan_bce_ECD_results'\n",
    "loss_funcs = ['linear', 'square', 'exponl']\n",
    "\n",
    "reps = 100\n",
    "optimizer = 'ECD'\n",
    "device = torch.device('cuda' if torch.cuda.is_available() else 'cpu')\n",
    "print(device)"
   ]
  },
  {
   "cell_type": "code",
   "execution_count": null,
   "id": "f0718191-0647-4280-8049-c22c08ff878f",
   "metadata": {
    "scrolled": true
   },
   "outputs": [
    {
     "name": "stderr",
     "output_type": "stream",
     "text": [
      "GPU available: True (cuda), used: True\n",
      "TPU available: False, using: 0 TPU cores\n",
      "HPU available: False, using: 0 HPUs\n",
      "/usr/local/lib/python3.10/dist-packages/pytorch_lightning/trainer/connectors/logger_connector/logger_connector.py:76: Starting from v1.9.0, `tensorboardX` has been removed as a dependency of the `pytorch_lightning` package, due to potential conflicts with other packages in the ML ecosystem. For this reason, `logger=True` will use `CSVLogger` as the default logger, unless the `tensorboard` or `tensorboardX` packages are found. Please `pip install lightning[extra]` or one of them to enable TensorBoard support by default\n",
      "You are using a CUDA device ('NVIDIA A40') that has Tensor Cores. To properly utilize them, you should set `torch.set_float32_matmul_precision('medium' | 'high')` which will trade-off precision for performance. For more details, read https://pytorch.org/docs/stable/generated/torch.set_float32_matmul_precision.html#torch.set_float32_matmul_precision\n",
      "/usr/local/lib/python3.10/dist-packages/pytorch_lightning/callbacks/model_checkpoint.py:654: Checkpoint directory /workspace/LikelihoodRatioStability/models/zenodo/mlc/linear/ecd exists and is not empty.\n",
      "LOCAL_RANK: 0 - CUDA_VISIBLE_DEVICES: [0]\n",
      "LOCAL_RANK: 0 - CUDA_VISIBLE_DEVICES: [0]\n",
      "\n",
      "  | Name     | Type    | Params | Mode \n",
      "---------------------------------------------\n",
      "0 | linear1  | Linear  | 448    | train\n",
      "1 | linear2  | Linear  | 8.3 K  | train\n",
      "2 | linear3  | Linear  | 8.3 K  | train\n",
      "3 | linear4  | Linear  | 65     | train\n",
      "4 | dropout1 | Dropout | 0      | train\n",
      "5 | dropout3 | Dropout | 0      | train\n",
      "6 | dropout2 | Dropout | 0      | train\n",
      "---------------------------------------------\n",
      "17.1 K    Trainable params\n",
      "0         Non-trainable params\n",
      "17.1 K    Total params\n",
      "0.068     Total estimated model params size (MB)\n",
      "7         Modules in train mode\n",
      "0         Modules in eval mode\n",
      "\n",
      "  | Name     | Type    | Params | Mode \n",
      "---------------------------------------------\n",
      "0 | linear1  | Linear  | 448    | train\n",
      "1 | linear2  | Linear  | 8.3 K  | train\n",
      "2 | linear3  | Linear  | 8.3 K  | train\n",
      "3 | linear4  | Linear  | 65     | train\n",
      "4 | dropout1 | Dropout | 0      | train\n",
      "5 | dropout3 | Dropout | 0      | train\n",
      "6 | dropout2 | Dropout | 0      | train\n",
      "---------------------------------------------\n",
      "17.1 K    Trainable params\n",
      "0         Non-trainable params\n",
      "17.1 K    Total params\n",
      "0.068     Total estimated model params size (MB)\n",
      "7         Modules in train mode\n",
      "0         Modules in eval mode\n",
      "/usr/local/lib/python3.10/dist-packages/pytorch_lightning/loops/fit_loop.py:310: The number of training batches (8) is smaller than the logging interval Trainer(log_every_n_steps=50). Set a lower value for log_every_n_steps if you want to see logs for the training epoch.\n"
     ]
    },
    {
     "name": "stdout",
     "output_type": "stream",
     "text": [
      "[Errno 17] File exists: 'models/zenodo/mlc/linear/ecd/'\n"
     ]
    },
    {
     "name": "stderr",
     "output_type": "stream",
     "text": [
      "GPU available: True (cuda), used: True\n",
      "TPU available: False, using: 0 TPU cores\n",
      "HPU available: False, using: 0 HPUs\n",
      "LOCAL_RANK: 0 - CUDA_VISIBLE_DEVICES: [0]\n",
      "LOCAL_RANK: 0 - CUDA_VISIBLE_DEVICES: [0]\n",
      "\n",
      "  | Name     | Type    | Params | Mode \n",
      "---------------------------------------------\n",
      "0 | linear1  | Linear  | 448    | train\n",
      "1 | linear2  | Linear  | 8.3 K  | train\n",
      "2 | linear3  | Linear  | 8.3 K  | train\n",
      "3 | linear4  | Linear  | 65     | train\n",
      "4 | dropout1 | Dropout | 0      | train\n",
      "5 | dropout3 | Dropout | 0      | train\n",
      "6 | dropout2 | Dropout | 0      | train\n",
      "---------------------------------------------\n",
      "17.1 K    Trainable params\n",
      "0         Non-trainable params\n",
      "17.1 K    Total params\n",
      "0.068     Total estimated model params size (MB)\n",
      "7         Modules in train mode\n",
      "0         Modules in eval mode\n",
      "\n",
      "  | Name     | Type    | Params | Mode \n",
      "---------------------------------------------\n",
      "0 | linear1  | Linear  | 448    | train\n",
      "1 | linear2  | Linear  | 8.3 K  | train\n",
      "2 | linear3  | Linear  | 8.3 K  | train\n",
      "3 | linear4  | Linear  | 65     | train\n",
      "4 | dropout1 | Dropout | 0      | train\n",
      "5 | dropout3 | Dropout | 0      | train\n",
      "6 | dropout2 | Dropout | 0      | train\n",
      "---------------------------------------------\n",
      "17.1 K    Trainable params\n",
      "0         Non-trainable params\n",
      "17.1 K    Total params\n",
      "0.068     Total estimated model params size (MB)\n",
      "7         Modules in train mode\n",
      "0         Modules in eval mode\n"
     ]
    },
    {
     "name": "stdout",
     "output_type": "stream",
     "text": [
      "eta: 5000.0 lr: 1.0 mae: 0.4157039523124695 classifier:  linear path: models/zenodo/mlc/linear/ecd/\n"
     ]
    },
    {
     "name": "stderr",
     "output_type": "stream",
     "text": [
      "`Trainer.fit` stopped: `max_epochs=500` reached.\n"
     ]
    },
    {
     "name": "stdout",
     "output_type": "stream",
     "text": [
      "[Errno 17] File exists: 'models/zenodo/mlc/linear/ecd/'\n"
     ]
    },
    {
     "name": "stderr",
     "output_type": "stream",
     "text": [
      "GPU available: True (cuda), used: True\n",
      "TPU available: False, using: 0 TPU cores\n",
      "HPU available: False, using: 0 HPUs\n",
      "LOCAL_RANK: 0 - CUDA_VISIBLE_DEVICES: [0]\n",
      "LOCAL_RANK: 0 - CUDA_VISIBLE_DEVICES: [0]\n",
      "\n",
      "  | Name     | Type    | Params | Mode \n",
      "---------------------------------------------\n",
      "0 | linear1  | Linear  | 448    | train\n",
      "1 | linear2  | Linear  | 8.3 K  | train\n",
      "2 | linear3  | Linear  | 8.3 K  | train\n",
      "3 | linear4  | Linear  | 65     | train\n",
      "4 | dropout1 | Dropout | 0      | train\n",
      "5 | dropout3 | Dropout | 0      | train\n",
      "6 | dropout2 | Dropout | 0      | train\n",
      "---------------------------------------------\n",
      "17.1 K    Trainable params\n",
      "0         Non-trainable params\n",
      "17.1 K    Total params\n",
      "0.068     Total estimated model params size (MB)\n",
      "7         Modules in train mode\n",
      "0         Modules in eval mode\n",
      "\n",
      "  | Name     | Type    | Params | Mode \n",
      "---------------------------------------------\n",
      "0 | linear1  | Linear  | 448    | train\n",
      "1 | linear2  | Linear  | 8.3 K  | train\n",
      "2 | linear3  | Linear  | 8.3 K  | train\n",
      "3 | linear4  | Linear  | 65     | train\n",
      "4 | dropout1 | Dropout | 0      | train\n",
      "5 | dropout3 | Dropout | 0      | train\n",
      "6 | dropout2 | Dropout | 0      | train\n",
      "---------------------------------------------\n",
      "17.1 K    Trainable params\n",
      "0         Non-trainable params\n",
      "17.1 K    Total params\n",
      "0.068     Total estimated model params size (MB)\n",
      "7         Modules in train mode\n",
      "0         Modules in eval mode\n"
     ]
    },
    {
     "name": "stdout",
     "output_type": "stream",
     "text": [
      "eta: 5000.0 lr: 1.0 mae: 0.4065135717391968 classifier:  linear path: models/zenodo/mlc/linear/ecd/\n",
      "[Errno 17] File exists: 'models/zenodo/mlc/linear/ecd/'\n"
     ]
    },
    {
     "name": "stderr",
     "output_type": "stream",
     "text": [
      "GPU available: True (cuda), used: True\n",
      "TPU available: False, using: 0 TPU cores\n",
      "HPU available: False, using: 0 HPUs\n",
      "LOCAL_RANK: 0 - CUDA_VISIBLE_DEVICES: [0]\n",
      "LOCAL_RANK: 0 - CUDA_VISIBLE_DEVICES: [0]\n",
      "\n",
      "  | Name     | Type    | Params | Mode \n",
      "---------------------------------------------\n",
      "0 | linear1  | Linear  | 448    | train\n",
      "1 | linear2  | Linear  | 8.3 K  | train\n",
      "2 | linear3  | Linear  | 8.3 K  | train\n",
      "3 | linear4  | Linear  | 65     | train\n",
      "4 | dropout1 | Dropout | 0      | train\n",
      "5 | dropout3 | Dropout | 0      | train\n",
      "6 | dropout2 | Dropout | 0      | train\n",
      "---------------------------------------------\n",
      "17.1 K    Trainable params\n",
      "0         Non-trainable params\n",
      "17.1 K    Total params\n",
      "0.068     Total estimated model params size (MB)\n",
      "7         Modules in train mode\n",
      "0         Modules in eval mode\n",
      "\n",
      "  | Name     | Type    | Params | Mode \n",
      "---------------------------------------------\n",
      "0 | linear1  | Linear  | 448    | train\n",
      "1 | linear2  | Linear  | 8.3 K  | train\n",
      "2 | linear3  | Linear  | 8.3 K  | train\n",
      "3 | linear4  | Linear  | 65     | train\n",
      "4 | dropout1 | Dropout | 0      | train\n",
      "5 | dropout3 | Dropout | 0      | train\n",
      "6 | dropout2 | Dropout | 0      | train\n",
      "---------------------------------------------\n",
      "17.1 K    Trainable params\n",
      "0         Non-trainable params\n",
      "17.1 K    Total params\n",
      "0.068     Total estimated model params size (MB)\n",
      "7         Modules in train mode\n",
      "0         Modules in eval mode\n"
     ]
    },
    {
     "name": "stdout",
     "output_type": "stream",
     "text": [
      "eta: 5000.0 lr: 1.0 mae: 0.40716788172721863 classifier:  linear path: models/zenodo/mlc/linear/ecd/\n",
      "[Errno 17] File exists: 'models/zenodo/mlc/linear/ecd/'\n"
     ]
    },
    {
     "name": "stderr",
     "output_type": "stream",
     "text": [
      "GPU available: True (cuda), used: True\n",
      "TPU available: False, using: 0 TPU cores\n",
      "HPU available: False, using: 0 HPUs\n",
      "LOCAL_RANK: 0 - CUDA_VISIBLE_DEVICES: [0]\n",
      "LOCAL_RANK: 0 - CUDA_VISIBLE_DEVICES: [0]\n",
      "\n",
      "  | Name     | Type    | Params | Mode \n",
      "---------------------------------------------\n",
      "0 | linear1  | Linear  | 448    | train\n",
      "1 | linear2  | Linear  | 8.3 K  | train\n",
      "2 | linear3  | Linear  | 8.3 K  | train\n",
      "3 | linear4  | Linear  | 65     | train\n",
      "4 | dropout1 | Dropout | 0      | train\n",
      "5 | dropout3 | Dropout | 0      | train\n",
      "6 | dropout2 | Dropout | 0      | train\n",
      "---------------------------------------------\n",
      "17.1 K    Trainable params\n",
      "0         Non-trainable params\n",
      "17.1 K    Total params\n",
      "0.068     Total estimated model params size (MB)\n",
      "7         Modules in train mode\n",
      "0         Modules in eval mode\n",
      "\n",
      "  | Name     | Type    | Params | Mode \n",
      "---------------------------------------------\n",
      "0 | linear1  | Linear  | 448    | train\n",
      "1 | linear2  | Linear  | 8.3 K  | train\n",
      "2 | linear3  | Linear  | 8.3 K  | train\n",
      "3 | linear4  | Linear  | 65     | train\n",
      "4 | dropout1 | Dropout | 0      | train\n",
      "5 | dropout3 | Dropout | 0      | train\n",
      "6 | dropout2 | Dropout | 0      | train\n",
      "---------------------------------------------\n",
      "17.1 K    Trainable params\n",
      "0         Non-trainable params\n",
      "17.1 K    Total params\n",
      "0.068     Total estimated model params size (MB)\n",
      "7         Modules in train mode\n",
      "0         Modules in eval mode\n"
     ]
    },
    {
     "name": "stdout",
     "output_type": "stream",
     "text": [
      "eta: 5000.0 lr: 1.0 mae: 0.4064640402793884 classifier:  linear path: models/zenodo/mlc/linear/ecd/\n"
     ]
    },
    {
     "name": "stderr",
     "output_type": "stream",
     "text": [
      "`Trainer.fit` stopped: `max_epochs=500` reached.\n"
     ]
    },
    {
     "name": "stdout",
     "output_type": "stream",
     "text": [
      "[Errno 17] File exists: 'models/zenodo/mlc/linear/ecd/'\n"
     ]
    },
    {
     "name": "stderr",
     "output_type": "stream",
     "text": [
      "GPU available: True (cuda), used: True\n",
      "TPU available: False, using: 0 TPU cores\n",
      "HPU available: False, using: 0 HPUs\n",
      "LOCAL_RANK: 0 - CUDA_VISIBLE_DEVICES: [0]\n",
      "LOCAL_RANK: 0 - CUDA_VISIBLE_DEVICES: [0]\n",
      "\n",
      "  | Name     | Type    | Params | Mode \n",
      "---------------------------------------------\n",
      "0 | linear1  | Linear  | 448    | train\n",
      "1 | linear2  | Linear  | 8.3 K  | train\n",
      "2 | linear3  | Linear  | 8.3 K  | train\n",
      "3 | linear4  | Linear  | 65     | train\n",
      "4 | dropout1 | Dropout | 0      | train\n",
      "5 | dropout3 | Dropout | 0      | train\n",
      "6 | dropout2 | Dropout | 0      | train\n",
      "---------------------------------------------\n",
      "17.1 K    Trainable params\n",
      "0         Non-trainable params\n",
      "17.1 K    Total params\n",
      "0.068     Total estimated model params size (MB)\n",
      "7         Modules in train mode\n",
      "0         Modules in eval mode\n",
      "\n",
      "  | Name     | Type    | Params | Mode \n",
      "---------------------------------------------\n",
      "0 | linear1  | Linear  | 448    | train\n",
      "1 | linear2  | Linear  | 8.3 K  | train\n",
      "2 | linear3  | Linear  | 8.3 K  | train\n",
      "3 | linear4  | Linear  | 65     | train\n",
      "4 | dropout1 | Dropout | 0      | train\n",
      "5 | dropout3 | Dropout | 0      | train\n",
      "6 | dropout2 | Dropout | 0      | train\n",
      "---------------------------------------------\n",
      "17.1 K    Trainable params\n",
      "0         Non-trainable params\n",
      "17.1 K    Total params\n",
      "0.068     Total estimated model params size (MB)\n",
      "7         Modules in train mode\n",
      "0         Modules in eval mode\n"
     ]
    },
    {
     "name": "stdout",
     "output_type": "stream",
     "text": [
      "eta: 5000.0 lr: 1.0 mae: 0.4128556251525879 classifier:  linear path: models/zenodo/mlc/linear/ecd/\n"
     ]
    },
    {
     "name": "stderr",
     "output_type": "stream",
     "text": [
      "`Trainer.fit` stopped: `max_epochs=500` reached.\n"
     ]
    },
    {
     "name": "stdout",
     "output_type": "stream",
     "text": [
      "[Errno 17] File exists: 'models/zenodo/mlc/linear/ecd/'\n"
     ]
    },
    {
     "name": "stderr",
     "output_type": "stream",
     "text": [
      "GPU available: True (cuda), used: True\n",
      "TPU available: False, using: 0 TPU cores\n",
      "HPU available: False, using: 0 HPUs\n"
     ]
    },
    {
     "name": "stdout",
     "output_type": "stream",
     "text": [
      "eta: 5000.0 lr: 1.0 mae: 0.4105517268180847 classifier:  linear path: models/zenodo/mlc/linear/ecd/\n"
     ]
    },
    {
     "name": "stderr",
     "output_type": "stream",
     "text": [
      "LOCAL_RANK: 0 - CUDA_VISIBLE_DEVICES: [0]\n",
      "LOCAL_RANK: 0 - CUDA_VISIBLE_DEVICES: [0]\n",
      "\n",
      "  | Name     | Type    | Params | Mode \n",
      "---------------------------------------------\n",
      "0 | linear1  | Linear  | 448    | train\n",
      "1 | linear2  | Linear  | 8.3 K  | train\n",
      "2 | linear3  | Linear  | 8.3 K  | train\n",
      "3 | linear4  | Linear  | 65     | train\n",
      "4 | dropout1 | Dropout | 0      | train\n",
      "5 | dropout3 | Dropout | 0      | train\n",
      "6 | dropout2 | Dropout | 0      | train\n",
      "---------------------------------------------\n",
      "17.1 K    Trainable params\n",
      "0         Non-trainable params\n",
      "17.1 K    Total params\n",
      "0.068     Total estimated model params size (MB)\n",
      "7         Modules in train mode\n",
      "0         Modules in eval mode\n",
      "\n",
      "  | Name     | Type    | Params | Mode \n",
      "---------------------------------------------\n",
      "0 | linear1  | Linear  | 448    | train\n",
      "1 | linear2  | Linear  | 8.3 K  | train\n",
      "2 | linear3  | Linear  | 8.3 K  | train\n",
      "3 | linear4  | Linear  | 65     | train\n",
      "4 | dropout1 | Dropout | 0      | train\n",
      "5 | dropout3 | Dropout | 0      | train\n",
      "6 | dropout2 | Dropout | 0      | train\n",
      "---------------------------------------------\n",
      "17.1 K    Trainable params\n",
      "0         Non-trainable params\n",
      "17.1 K    Total params\n",
      "0.068     Total estimated model params size (MB)\n",
      "7         Modules in train mode\n",
      "0         Modules in eval mode\n"
     ]
    },
    {
     "name": "stdout",
     "output_type": "stream",
     "text": [
      "[Errno 17] File exists: 'models/zenodo/mlc/linear/ecd/'\n"
     ]
    },
    {
     "name": "stderr",
     "output_type": "stream",
     "text": [
      "GPU available: True (cuda), used: True\n",
      "TPU available: False, using: 0 TPU cores\n",
      "HPU available: False, using: 0 HPUs\n",
      "LOCAL_RANK: 0 - CUDA_VISIBLE_DEVICES: [0]\n",
      "LOCAL_RANK: 0 - CUDA_VISIBLE_DEVICES: [0]\n",
      "\n",
      "  | Name     | Type    | Params | Mode \n",
      "---------------------------------------------\n",
      "0 | linear1  | Linear  | 448    | train\n",
      "1 | linear2  | Linear  | 8.3 K  | train\n",
      "2 | linear3  | Linear  | 8.3 K  | train\n",
      "3 | linear4  | Linear  | 65     | train\n",
      "4 | dropout1 | Dropout | 0      | train\n",
      "5 | dropout3 | Dropout | 0      | train\n",
      "6 | dropout2 | Dropout | 0      | train\n",
      "---------------------------------------------\n",
      "17.1 K    Trainable params\n",
      "0         Non-trainable params\n",
      "17.1 K    Total params\n",
      "0.068     Total estimated model params size (MB)\n",
      "7         Modules in train mode\n",
      "0         Modules in eval mode\n",
      "\n",
      "  | Name     | Type    | Params | Mode \n",
      "---------------------------------------------\n",
      "0 | linear1  | Linear  | 448    | train\n",
      "1 | linear2  | Linear  | 8.3 K  | train\n",
      "2 | linear3  | Linear  | 8.3 K  | train\n",
      "3 | linear4  | Linear  | 65     | train\n",
      "4 | dropout1 | Dropout | 0      | train\n",
      "5 | dropout3 | Dropout | 0      | train\n",
      "6 | dropout2 | Dropout | 0      | train\n",
      "---------------------------------------------\n",
      "17.1 K    Trainable params\n",
      "0         Non-trainable params\n",
      "17.1 K    Total params\n",
      "0.068     Total estimated model params size (MB)\n",
      "7         Modules in train mode\n",
      "0         Modules in eval mode\n"
     ]
    },
    {
     "name": "stdout",
     "output_type": "stream",
     "text": [
      "eta: 5000.0 lr: 1.0 mae: 0.4209132194519043 classifier:  linear path: models/zenodo/mlc/linear/ecd/\n"
     ]
    },
    {
     "name": "stderr",
     "output_type": "stream",
     "text": [
      "GPU available: True (cuda), used: True\n",
      "TPU available: False, using: 0 TPU cores\n",
      "HPU available: False, using: 0 HPUs\n"
     ]
    },
    {
     "name": "stdout",
     "output_type": "stream",
     "text": [
      "[Errno 17] File exists: 'models/zenodo/mlc/linear/ecd/'\n",
      "eta: 5000.0 lr: 1.0 mae: 0.4091322720050812 classifier:  linear path: models/zenodo/mlc/linear/ecd/\n"
     ]
    },
    {
     "name": "stderr",
     "output_type": "stream",
     "text": [
      "LOCAL_RANK: 0 - CUDA_VISIBLE_DEVICES: [0]\n",
      "LOCAL_RANK: 0 - CUDA_VISIBLE_DEVICES: [0]\n",
      "\n",
      "  | Name     | Type    | Params | Mode \n",
      "---------------------------------------------\n",
      "0 | linear1  | Linear  | 448    | train\n",
      "1 | linear2  | Linear  | 8.3 K  | train\n",
      "2 | linear3  | Linear  | 8.3 K  | train\n",
      "3 | linear4  | Linear  | 65     | train\n",
      "4 | dropout1 | Dropout | 0      | train\n",
      "5 | dropout3 | Dropout | 0      | train\n",
      "6 | dropout2 | Dropout | 0      | train\n",
      "---------------------------------------------\n",
      "17.1 K    Trainable params\n",
      "0         Non-trainable params\n",
      "17.1 K    Total params\n",
      "0.068     Total estimated model params size (MB)\n",
      "7         Modules in train mode\n",
      "0         Modules in eval mode\n",
      "\n",
      "  | Name     | Type    | Params | Mode \n",
      "---------------------------------------------\n",
      "0 | linear1  | Linear  | 448    | train\n",
      "1 | linear2  | Linear  | 8.3 K  | train\n",
      "2 | linear3  | Linear  | 8.3 K  | train\n",
      "3 | linear4  | Linear  | 65     | train\n",
      "4 | dropout1 | Dropout | 0      | train\n",
      "5 | dropout3 | Dropout | 0      | train\n",
      "6 | dropout2 | Dropout | 0      | train\n",
      "---------------------------------------------\n",
      "17.1 K    Trainable params\n",
      "0         Non-trainable params\n",
      "17.1 K    Total params\n",
      "0.068     Total estimated model params size (MB)\n",
      "7         Modules in train mode\n",
      "0         Modules in eval mode\n"
     ]
    },
    {
     "name": "stdout",
     "output_type": "stream",
     "text": [
      "[Errno 17] File exists: 'models/zenodo/mlc/linear/ecd/'\n"
     ]
    },
    {
     "name": "stderr",
     "output_type": "stream",
     "text": [
      "GPU available: True (cuda), used: True\n",
      "TPU available: False, using: 0 TPU cores\n",
      "HPU available: False, using: 0 HPUs\n",
      "LOCAL_RANK: 0 - CUDA_VISIBLE_DEVICES: [0]\n",
      "LOCAL_RANK: 0 - CUDA_VISIBLE_DEVICES: [0]\n",
      "\n",
      "  | Name     | Type    | Params | Mode \n",
      "---------------------------------------------\n",
      "0 | linear1  | Linear  | 448    | train\n",
      "1 | linear2  | Linear  | 8.3 K  | train\n",
      "2 | linear3  | Linear  | 8.3 K  | train\n",
      "3 | linear4  | Linear  | 65     | train\n",
      "4 | dropout1 | Dropout | 0      | train\n",
      "5 | dropout3 | Dropout | 0      | train\n",
      "6 | dropout2 | Dropout | 0      | train\n",
      "---------------------------------------------\n",
      "17.1 K    Trainable params\n",
      "0         Non-trainable params\n",
      "17.1 K    Total params\n",
      "0.068     Total estimated model params size (MB)\n",
      "7         Modules in train mode\n",
      "0         Modules in eval mode\n",
      "\n",
      "  | Name     | Type    | Params | Mode \n",
      "---------------------------------------------\n",
      "0 | linear1  | Linear  | 448    | train\n",
      "1 | linear2  | Linear  | 8.3 K  | train\n",
      "2 | linear3  | Linear  | 8.3 K  | train\n",
      "3 | linear4  | Linear  | 65     | train\n",
      "4 | dropout1 | Dropout | 0      | train\n",
      "5 | dropout3 | Dropout | 0      | train\n",
      "6 | dropout2 | Dropout | 0      | train\n",
      "---------------------------------------------\n",
      "17.1 K    Trainable params\n",
      "0         Non-trainable params\n",
      "17.1 K    Total params\n",
      "0.068     Total estimated model params size (MB)\n",
      "7         Modules in train mode\n",
      "0         Modules in eval mode\n"
     ]
    },
    {
     "name": "stdout",
     "output_type": "stream",
     "text": [
      "eta: 5000.0 lr: 1.0 mae: 0.4095303416252136 classifier:  linear path: models/zenodo/mlc/linear/ecd/\n",
      "[Errno 17] File exists: 'models/zenodo/mlc/linear/ecd/'\n"
     ]
    },
    {
     "name": "stderr",
     "output_type": "stream",
     "text": [
      "GPU available: True (cuda), used: True\n",
      "TPU available: False, using: 0 TPU cores\n",
      "HPU available: False, using: 0 HPUs\n"
     ]
    },
    {
     "name": "stdout",
     "output_type": "stream",
     "text": [
      "eta: 5000.0 lr: 1.0 mae: 0.4257790446281433 classifier:  linear path: models/zenodo/mlc/linear/ecd/\n"
     ]
    },
    {
     "name": "stderr",
     "output_type": "stream",
     "text": [
      "/usr/local/lib/python3.10/dist-packages/pytorch_lightning/callbacks/model_checkpoint.py:654: Checkpoint directory /workspace/LikelihoodRatioStability/models/zenodo/mlc/square/ecd exists and is not empty.\n",
      "LOCAL_RANK: 0 - CUDA_VISIBLE_DEVICES: [0]\n",
      "LOCAL_RANK: 0 - CUDA_VISIBLE_DEVICES: [0]\n",
      "\n",
      "  | Name     | Type    | Params | Mode \n",
      "---------------------------------------------\n",
      "0 | linear1  | Linear  | 448    | train\n",
      "1 | linear2  | Linear  | 8.3 K  | train\n",
      "2 | linear3  | Linear  | 8.3 K  | train\n",
      "3 | linear4  | Linear  | 65     | train\n",
      "4 | dropout1 | Dropout | 0      | train\n",
      "5 | dropout3 | Dropout | 0      | train\n",
      "6 | dropout2 | Dropout | 0      | train\n",
      "---------------------------------------------\n",
      "17.1 K    Trainable params\n",
      "0         Non-trainable params\n",
      "17.1 K    Total params\n",
      "0.068     Total estimated model params size (MB)\n",
      "7         Modules in train mode\n",
      "0         Modules in eval mode\n",
      "\n",
      "  | Name     | Type    | Params | Mode \n",
      "---------------------------------------------\n",
      "0 | linear1  | Linear  | 448    | train\n",
      "1 | linear2  | Linear  | 8.3 K  | train\n",
      "2 | linear3  | Linear  | 8.3 K  | train\n",
      "3 | linear4  | Linear  | 65     | train\n",
      "4 | dropout1 | Dropout | 0      | train\n",
      "5 | dropout3 | Dropout | 0      | train\n",
      "6 | dropout2 | Dropout | 0      | train\n",
      "---------------------------------------------\n",
      "17.1 K    Trainable params\n",
      "0         Non-trainable params\n",
      "17.1 K    Total params\n",
      "0.068     Total estimated model params size (MB)\n",
      "7         Modules in train mode\n",
      "0         Modules in eval mode\n"
     ]
    },
    {
     "name": "stdout",
     "output_type": "stream",
     "text": [
      "[Errno 17] File exists: 'models/zenodo/mlc/square/ecd/'\n"
     ]
    },
    {
     "name": "stderr",
     "output_type": "stream",
     "text": [
      "GPU available: True (cuda), used: True\n",
      "TPU available: False, using: 0 TPU cores\n",
      "HPU available: False, using: 0 HPUs\n"
     ]
    },
    {
     "name": "stdout",
     "output_type": "stream",
     "text": [
      "eta: 5000.0 lr: 1.0 mae: 0.4101448953151703 classifier:  square path: models/zenodo/mlc/square/ecd/\n"
     ]
    },
    {
     "name": "stderr",
     "output_type": "stream",
     "text": [
      "LOCAL_RANK: 0 - CUDA_VISIBLE_DEVICES: [0]\n",
      "LOCAL_RANK: 0 - CUDA_VISIBLE_DEVICES: [0]\n",
      "\n",
      "  | Name     | Type    | Params | Mode \n",
      "---------------------------------------------\n",
      "0 | linear1  | Linear  | 448    | train\n",
      "1 | linear2  | Linear  | 8.3 K  | train\n",
      "2 | linear3  | Linear  | 8.3 K  | train\n",
      "3 | linear4  | Linear  | 65     | train\n",
      "4 | dropout1 | Dropout | 0      | train\n",
      "5 | dropout3 | Dropout | 0      | train\n",
      "6 | dropout2 | Dropout | 0      | train\n",
      "---------------------------------------------\n",
      "17.1 K    Trainable params\n",
      "0         Non-trainable params\n",
      "17.1 K    Total params\n",
      "0.068     Total estimated model params size (MB)\n",
      "7         Modules in train mode\n",
      "0         Modules in eval mode\n",
      "\n",
      "  | Name     | Type    | Params | Mode \n",
      "---------------------------------------------\n",
      "0 | linear1  | Linear  | 448    | train\n",
      "1 | linear2  | Linear  | 8.3 K  | train\n",
      "2 | linear3  | Linear  | 8.3 K  | train\n",
      "3 | linear4  | Linear  | 65     | train\n",
      "4 | dropout1 | Dropout | 0      | train\n",
      "5 | dropout3 | Dropout | 0      | train\n",
      "6 | dropout2 | Dropout | 0      | train\n",
      "---------------------------------------------\n",
      "17.1 K    Trainable params\n",
      "0         Non-trainable params\n",
      "17.1 K    Total params\n",
      "0.068     Total estimated model params size (MB)\n",
      "7         Modules in train mode\n",
      "0         Modules in eval mode\n"
     ]
    },
    {
     "name": "stdout",
     "output_type": "stream",
     "text": [
      "[Errno 17] File exists: 'models/zenodo/mlc/square/ecd/'\n"
     ]
    },
    {
     "name": "stderr",
     "output_type": "stream",
     "text": [
      "GPU available: True (cuda), used: True\n",
      "TPU available: False, using: 0 TPU cores\n",
      "HPU available: False, using: 0 HPUs\n",
      "LOCAL_RANK: 0 - CUDA_VISIBLE_DEVICES: [0]\n",
      "LOCAL_RANK: 0 - CUDA_VISIBLE_DEVICES: [0]\n",
      "\n",
      "  | Name     | Type    | Params | Mode \n",
      "---------------------------------------------\n",
      "0 | linear1  | Linear  | 448    | train\n",
      "1 | linear2  | Linear  | 8.3 K  | train\n",
      "2 | linear3  | Linear  | 8.3 K  | train\n",
      "3 | linear4  | Linear  | 65     | train\n",
      "4 | dropout1 | Dropout | 0      | train\n",
      "5 | dropout3 | Dropout | 0      | train\n",
      "6 | dropout2 | Dropout | 0      | train\n",
      "---------------------------------------------\n",
      "17.1 K    Trainable params\n",
      "0         Non-trainable params\n",
      "17.1 K    Total params\n",
      "0.068     Total estimated model params size (MB)\n",
      "7         Modules in train mode\n",
      "0         Modules in eval mode\n",
      "\n",
      "  | Name     | Type    | Params | Mode \n",
      "---------------------------------------------\n",
      "0 | linear1  | Linear  | 448    | train\n",
      "1 | linear2  | Linear  | 8.3 K  | train\n",
      "2 | linear3  | Linear  | 8.3 K  | train\n",
      "3 | linear4  | Linear  | 65     | train\n",
      "4 | dropout1 | Dropout | 0      | train\n",
      "5 | dropout3 | Dropout | 0      | train\n",
      "6 | dropout2 | Dropout | 0      | train\n",
      "---------------------------------------------\n",
      "17.1 K    Trainable params\n",
      "0         Non-trainable params\n",
      "17.1 K    Total params\n",
      "0.068     Total estimated model params size (MB)\n",
      "7         Modules in train mode\n",
      "0         Modules in eval mode\n"
     ]
    },
    {
     "name": "stdout",
     "output_type": "stream",
     "text": [
      "eta: 5000.0 lr: 1.0 mae: 0.4131048321723938 classifier:  square path: models/zenodo/mlc/square/ecd/\n",
      "[Errno 17] File exists: 'models/zenodo/mlc/square/ecd/'\n"
     ]
    },
    {
     "name": "stderr",
     "output_type": "stream",
     "text": [
      "GPU available: True (cuda), used: True\n",
      "TPU available: False, using: 0 TPU cores\n",
      "HPU available: False, using: 0 HPUs\n"
     ]
    },
    {
     "name": "stdout",
     "output_type": "stream",
     "text": [
      "eta: 5000.0 lr: 1.0 mae: 0.417460173368454 classifier:  square path: models/zenodo/mlc/square/ecd/\n"
     ]
    },
    {
     "name": "stderr",
     "output_type": "stream",
     "text": [
      "LOCAL_RANK: 0 - CUDA_VISIBLE_DEVICES: [0]\n",
      "LOCAL_RANK: 0 - CUDA_VISIBLE_DEVICES: [0]\n",
      "\n",
      "  | Name     | Type    | Params | Mode \n",
      "---------------------------------------------\n",
      "0 | linear1  | Linear  | 448    | train\n",
      "1 | linear2  | Linear  | 8.3 K  | train\n",
      "2 | linear3  | Linear  | 8.3 K  | train\n",
      "3 | linear4  | Linear  | 65     | train\n",
      "4 | dropout1 | Dropout | 0      | train\n",
      "5 | dropout3 | Dropout | 0      | train\n",
      "6 | dropout2 | Dropout | 0      | train\n",
      "---------------------------------------------\n",
      "17.1 K    Trainable params\n",
      "0         Non-trainable params\n",
      "17.1 K    Total params\n",
      "0.068     Total estimated model params size (MB)\n",
      "7         Modules in train mode\n",
      "0         Modules in eval mode\n",
      "\n",
      "  | Name     | Type    | Params | Mode \n",
      "---------------------------------------------\n",
      "0 | linear1  | Linear  | 448    | train\n",
      "1 | linear2  | Linear  | 8.3 K  | train\n",
      "2 | linear3  | Linear  | 8.3 K  | train\n",
      "3 | linear4  | Linear  | 65     | train\n",
      "4 | dropout1 | Dropout | 0      | train\n",
      "5 | dropout3 | Dropout | 0      | train\n",
      "6 | dropout2 | Dropout | 0      | train\n",
      "---------------------------------------------\n",
      "17.1 K    Trainable params\n",
      "0         Non-trainable params\n",
      "17.1 K    Total params\n",
      "0.068     Total estimated model params size (MB)\n",
      "7         Modules in train mode\n",
      "0         Modules in eval mode\n"
     ]
    },
    {
     "name": "stdout",
     "output_type": "stream",
     "text": [
      "[Errno 17] File exists: 'models/zenodo/mlc/square/ecd/'\n"
     ]
    },
    {
     "name": "stderr",
     "output_type": "stream",
     "text": [
      "GPU available: True (cuda), used: True\n",
      "TPU available: False, using: 0 TPU cores\n",
      "HPU available: False, using: 0 HPUs\n",
      "LOCAL_RANK: 0 - CUDA_VISIBLE_DEVICES: [0]\n",
      "LOCAL_RANK: 0 - CUDA_VISIBLE_DEVICES: [0]\n",
      "\n",
      "  | Name     | Type    | Params | Mode \n",
      "---------------------------------------------\n",
      "0 | linear1  | Linear  | 448    | train\n",
      "1 | linear2  | Linear  | 8.3 K  | train\n",
      "2 | linear3  | Linear  | 8.3 K  | train\n",
      "3 | linear4  | Linear  | 65     | train\n",
      "4 | dropout1 | Dropout | 0      | train\n",
      "5 | dropout3 | Dropout | 0      | train\n",
      "6 | dropout2 | Dropout | 0      | train\n",
      "---------------------------------------------\n",
      "17.1 K    Trainable params\n",
      "0         Non-trainable params\n",
      "17.1 K    Total params\n",
      "0.068     Total estimated model params size (MB)\n",
      "7         Modules in train mode\n",
      "0         Modules in eval mode\n",
      "\n",
      "  | Name     | Type    | Params | Mode \n",
      "---------------------------------------------\n",
      "0 | linear1  | Linear  | 448    | train\n",
      "1 | linear2  | Linear  | 8.3 K  | train\n",
      "2 | linear3  | Linear  | 8.3 K  | train\n",
      "3 | linear4  | Linear  | 65     | train\n",
      "4 | dropout1 | Dropout | 0      | train\n",
      "5 | dropout3 | Dropout | 0      | train\n",
      "6 | dropout2 | Dropout | 0      | train\n",
      "---------------------------------------------\n",
      "17.1 K    Trainable params\n",
      "0         Non-trainable params\n",
      "17.1 K    Total params\n",
      "0.068     Total estimated model params size (MB)\n",
      "7         Modules in train mode\n",
      "0         Modules in eval mode\n"
     ]
    },
    {
     "name": "stdout",
     "output_type": "stream",
     "text": [
      "eta: 5000.0 lr: 1.0 mae: 0.41384243965148926 classifier:  square path: models/zenodo/mlc/square/ecd/\n",
      "[Errno 17] File exists: 'models/zenodo/mlc/square/ecd/'\n"
     ]
    },
    {
     "name": "stderr",
     "output_type": "stream",
     "text": [
      "GPU available: True (cuda), used: True\n",
      "TPU available: False, using: 0 TPU cores\n",
      "HPU available: False, using: 0 HPUs\n",
      "LOCAL_RANK: 0 - CUDA_VISIBLE_DEVICES: [0]\n",
      "LOCAL_RANK: 0 - CUDA_VISIBLE_DEVICES: [0]\n",
      "\n",
      "  | Name     | Type    | Params | Mode \n",
      "---------------------------------------------\n",
      "0 | linear1  | Linear  | 448    | train\n",
      "1 | linear2  | Linear  | 8.3 K  | train\n",
      "2 | linear3  | Linear  | 8.3 K  | train\n",
      "3 | linear4  | Linear  | 65     | train\n",
      "4 | dropout1 | Dropout | 0      | train\n",
      "5 | dropout3 | Dropout | 0      | train\n",
      "6 | dropout2 | Dropout | 0      | train\n",
      "---------------------------------------------\n",
      "17.1 K    Trainable params\n",
      "0         Non-trainable params\n",
      "17.1 K    Total params\n",
      "0.068     Total estimated model params size (MB)\n",
      "7         Modules in train mode\n",
      "0         Modules in eval mode\n",
      "\n",
      "  | Name     | Type    | Params | Mode \n",
      "---------------------------------------------\n",
      "0 | linear1  | Linear  | 448    | train\n",
      "1 | linear2  | Linear  | 8.3 K  | train\n",
      "2 | linear3  | Linear  | 8.3 K  | train\n",
      "3 | linear4  | Linear  | 65     | train\n",
      "4 | dropout1 | Dropout | 0      | train\n",
      "5 | dropout3 | Dropout | 0      | train\n",
      "6 | dropout2 | Dropout | 0      | train\n",
      "---------------------------------------------\n",
      "17.1 K    Trainable params\n",
      "0         Non-trainable params\n",
      "17.1 K    Total params\n",
      "0.068     Total estimated model params size (MB)\n",
      "7         Modules in train mode\n",
      "0         Modules in eval mode\n"
     ]
    },
    {
     "name": "stdout",
     "output_type": "stream",
     "text": [
      "eta: 5000.0 lr: 1.0 mae: 0.4608929753303528 classifier:  square path: models/zenodo/mlc/square/ecd/\n",
      "[Errno 17] File exists: 'models/zenodo/mlc/square/ecd/'\n",
      "eta: 5000.0 lr: 1.0 mae: 0.4096832573413849 classifier:  square path: models/zenodo/mlc/square/ecd/\n"
     ]
    },
    {
     "name": "stderr",
     "output_type": "stream",
     "text": [
      "GPU available: True (cuda), used: True\n",
      "TPU available: False, using: 0 TPU cores\n",
      "HPU available: False, using: 0 HPUs\n",
      "LOCAL_RANK: 0 - CUDA_VISIBLE_DEVICES: [0]\n",
      "LOCAL_RANK: 0 - CUDA_VISIBLE_DEVICES: [0]\n",
      "\n",
      "  | Name     | Type    | Params | Mode \n",
      "---------------------------------------------\n",
      "0 | linear1  | Linear  | 448    | train\n",
      "1 | linear2  | Linear  | 8.3 K  | train\n",
      "2 | linear3  | Linear  | 8.3 K  | train\n",
      "3 | linear4  | Linear  | 65     | train\n",
      "4 | dropout1 | Dropout | 0      | train\n",
      "5 | dropout3 | Dropout | 0      | train\n",
      "6 | dropout2 | Dropout | 0      | train\n",
      "---------------------------------------------\n",
      "17.1 K    Trainable params\n",
      "0         Non-trainable params\n",
      "17.1 K    Total params\n",
      "0.068     Total estimated model params size (MB)\n",
      "7         Modules in train mode\n",
      "0         Modules in eval mode\n",
      "\n",
      "  | Name     | Type    | Params | Mode \n",
      "---------------------------------------------\n",
      "0 | linear1  | Linear  | 448    | train\n",
      "1 | linear2  | Linear  | 8.3 K  | train\n",
      "2 | linear3  | Linear  | 8.3 K  | train\n",
      "3 | linear4  | Linear  | 65     | train\n",
      "4 | dropout1 | Dropout | 0      | train\n",
      "5 | dropout3 | Dropout | 0      | train\n",
      "6 | dropout2 | Dropout | 0      | train\n",
      "---------------------------------------------\n",
      "17.1 K    Trainable params\n",
      "0         Non-trainable params\n",
      "17.1 K    Total params\n",
      "0.068     Total estimated model params size (MB)\n",
      "7         Modules in train mode\n",
      "0         Modules in eval mode\n"
     ]
    },
    {
     "name": "stdout",
     "output_type": "stream",
     "text": [
      "[Errno 17] File exists: 'models/zenodo/mlc/square/ecd/'\n"
     ]
    },
    {
     "name": "stderr",
     "output_type": "stream",
     "text": [
      "GPU available: True (cuda), used: True\n",
      "TPU available: False, using: 0 TPU cores\n",
      "HPU available: False, using: 0 HPUs\n"
     ]
    },
    {
     "name": "stdout",
     "output_type": "stream",
     "text": [
      "eta: 5000.0 lr: 1.0 mae: 0.4140721261501312 classifier:  square path: models/zenodo/mlc/square/ecd/\n"
     ]
    },
    {
     "name": "stderr",
     "output_type": "stream",
     "text": [
      "LOCAL_RANK: 0 - CUDA_VISIBLE_DEVICES: [0]\n",
      "LOCAL_RANK: 0 - CUDA_VISIBLE_DEVICES: [0]\n",
      "\n",
      "  | Name     | Type    | Params | Mode \n",
      "---------------------------------------------\n",
      "0 | linear1  | Linear  | 448    | train\n",
      "1 | linear2  | Linear  | 8.3 K  | train\n",
      "2 | linear3  | Linear  | 8.3 K  | train\n",
      "3 | linear4  | Linear  | 65     | train\n",
      "4 | dropout1 | Dropout | 0      | train\n",
      "5 | dropout3 | Dropout | 0      | train\n",
      "6 | dropout2 | Dropout | 0      | train\n",
      "---------------------------------------------\n",
      "17.1 K    Trainable params\n",
      "0         Non-trainable params\n",
      "17.1 K    Total params\n",
      "0.068     Total estimated model params size (MB)\n",
      "7         Modules in train mode\n",
      "0         Modules in eval mode\n",
      "\n",
      "  | Name     | Type    | Params | Mode \n",
      "---------------------------------------------\n",
      "0 | linear1  | Linear  | 448    | train\n",
      "1 | linear2  | Linear  | 8.3 K  | train\n",
      "2 | linear3  | Linear  | 8.3 K  | train\n",
      "3 | linear4  | Linear  | 65     | train\n",
      "4 | dropout1 | Dropout | 0      | train\n",
      "5 | dropout3 | Dropout | 0      | train\n",
      "6 | dropout2 | Dropout | 0      | train\n",
      "---------------------------------------------\n",
      "17.1 K    Trainable params\n",
      "0         Non-trainable params\n",
      "17.1 K    Total params\n",
      "0.068     Total estimated model params size (MB)\n",
      "7         Modules in train mode\n",
      "0         Modules in eval mode\n",
      "`Trainer.fit` stopped: `max_epochs=500` reached.\n"
     ]
    },
    {
     "name": "stdout",
     "output_type": "stream",
     "text": [
      "[Errno 17] File exists: 'models/zenodo/mlc/square/ecd/'\n"
     ]
    },
    {
     "name": "stderr",
     "output_type": "stream",
     "text": [
      "GPU available: True (cuda), used: True\n",
      "TPU available: False, using: 0 TPU cores\n",
      "HPU available: False, using: 0 HPUs\n",
      "LOCAL_RANK: 0 - CUDA_VISIBLE_DEVICES: [0]\n",
      "LOCAL_RANK: 0 - CUDA_VISIBLE_DEVICES: [0]\n",
      "\n",
      "  | Name     | Type    | Params | Mode \n",
      "---------------------------------------------\n",
      "0 | linear1  | Linear  | 448    | train\n",
      "1 | linear2  | Linear  | 8.3 K  | train\n",
      "2 | linear3  | Linear  | 8.3 K  | train\n",
      "3 | linear4  | Linear  | 65     | train\n",
      "4 | dropout1 | Dropout | 0      | train\n",
      "5 | dropout3 | Dropout | 0      | train\n",
      "6 | dropout2 | Dropout | 0      | train\n",
      "---------------------------------------------\n",
      "17.1 K    Trainable params\n",
      "0         Non-trainable params\n",
      "17.1 K    Total params\n",
      "0.068     Total estimated model params size (MB)\n",
      "7         Modules in train mode\n",
      "0         Modules in eval mode\n",
      "\n",
      "  | Name     | Type    | Params | Mode \n",
      "---------------------------------------------\n",
      "0 | linear1  | Linear  | 448    | train\n",
      "1 | linear2  | Linear  | 8.3 K  | train\n",
      "2 | linear3  | Linear  | 8.3 K  | train\n",
      "3 | linear4  | Linear  | 65     | train\n",
      "4 | dropout1 | Dropout | 0      | train\n",
      "5 | dropout3 | Dropout | 0      | train\n",
      "6 | dropout2 | Dropout | 0      | train\n",
      "---------------------------------------------\n",
      "17.1 K    Trainable params\n",
      "0         Non-trainable params\n",
      "17.1 K    Total params\n",
      "0.068     Total estimated model params size (MB)\n",
      "7         Modules in train mode\n",
      "0         Modules in eval mode\n"
     ]
    },
    {
     "name": "stdout",
     "output_type": "stream",
     "text": [
      "eta: 5000.0 lr: 1.0 mae: 0.4037443995475769 classifier:  square path: models/zenodo/mlc/square/ecd/\n",
      "[Errno 17] File exists: 'models/zenodo/mlc/square/ecd/'\n"
     ]
    },
    {
     "name": "stderr",
     "output_type": "stream",
     "text": [
      "GPU available: True (cuda), used: True\n",
      "TPU available: False, using: 0 TPU cores\n",
      "HPU available: False, using: 0 HPUs\n"
     ]
    },
    {
     "name": "stdout",
     "output_type": "stream",
     "text": [
      "eta: 5000.0 lr: 1.0 mae: 0.4161614775657654 classifier:  square path: models/zenodo/mlc/square/ecd/\n"
     ]
    },
    {
     "name": "stderr",
     "output_type": "stream",
     "text": [
      "LOCAL_RANK: 0 - CUDA_VISIBLE_DEVICES: [0]\n",
      "LOCAL_RANK: 0 - CUDA_VISIBLE_DEVICES: [0]\n",
      "\n",
      "  | Name     | Type    | Params | Mode \n",
      "---------------------------------------------\n",
      "0 | linear1  | Linear  | 448    | train\n",
      "1 | linear2  | Linear  | 8.3 K  | train\n",
      "2 | linear3  | Linear  | 8.3 K  | train\n",
      "3 | linear4  | Linear  | 65     | train\n",
      "4 | dropout1 | Dropout | 0      | train\n",
      "5 | dropout3 | Dropout | 0      | train\n",
      "6 | dropout2 | Dropout | 0      | train\n",
      "---------------------------------------------\n",
      "17.1 K    Trainable params\n",
      "0         Non-trainable params\n",
      "17.1 K    Total params\n",
      "0.068     Total estimated model params size (MB)\n",
      "7         Modules in train mode\n",
      "0         Modules in eval mode\n",
      "\n",
      "  | Name     | Type    | Params | Mode \n",
      "---------------------------------------------\n",
      "0 | linear1  | Linear  | 448    | train\n",
      "1 | linear2  | Linear  | 8.3 K  | train\n",
      "2 | linear3  | Linear  | 8.3 K  | train\n",
      "3 | linear4  | Linear  | 65     | train\n",
      "4 | dropout1 | Dropout | 0      | train\n",
      "5 | dropout3 | Dropout | 0      | train\n",
      "6 | dropout2 | Dropout | 0      | train\n",
      "---------------------------------------------\n",
      "17.1 K    Trainable params\n",
      "0         Non-trainable params\n",
      "17.1 K    Total params\n",
      "0.068     Total estimated model params size (MB)\n",
      "7         Modules in train mode\n",
      "0         Modules in eval mode\n"
     ]
    },
    {
     "name": "stdout",
     "output_type": "stream",
     "text": [
      "[Errno 17] File exists: 'models/zenodo/mlc/square/ecd/'\n"
     ]
    },
    {
     "name": "stderr",
     "output_type": "stream",
     "text": [
      "GPU available: True (cuda), used: True\n",
      "TPU available: False, using: 0 TPU cores\n",
      "HPU available: False, using: 0 HPUs\n"
     ]
    },
    {
     "name": "stdout",
     "output_type": "stream",
     "text": [
      "eta: 5000.0 lr: 1.0 mae: 0.4100986421108246 classifier:  square path: models/zenodo/mlc/square/ecd/\n"
     ]
    },
    {
     "name": "stderr",
     "output_type": "stream",
     "text": [
      "/usr/local/lib/python3.10/dist-packages/pytorch_lightning/callbacks/model_checkpoint.py:654: Checkpoint directory /workspace/LikelihoodRatioStability/models/zenodo/mlc/exponl/ecd exists and is not empty.\n",
      "LOCAL_RANK: 0 - CUDA_VISIBLE_DEVICES: [0]\n",
      "LOCAL_RANK: 0 - CUDA_VISIBLE_DEVICES: [0]\n",
      "\n",
      "  | Name     | Type    | Params | Mode \n",
      "---------------------------------------------\n",
      "0 | linear1  | Linear  | 448    | train\n",
      "1 | linear2  | Linear  | 8.3 K  | train\n",
      "2 | linear3  | Linear  | 8.3 K  | train\n",
      "3 | linear4  | Linear  | 65     | train\n",
      "4 | dropout1 | Dropout | 0      | train\n",
      "5 | dropout3 | Dropout | 0      | train\n",
      "6 | dropout2 | Dropout | 0      | train\n",
      "---------------------------------------------\n",
      "17.1 K    Trainable params\n",
      "0         Non-trainable params\n",
      "17.1 K    Total params\n",
      "0.068     Total estimated model params size (MB)\n",
      "7         Modules in train mode\n",
      "0         Modules in eval mode\n",
      "\n",
      "  | Name     | Type    | Params | Mode \n",
      "---------------------------------------------\n",
      "0 | linear1  | Linear  | 448    | train\n",
      "1 | linear2  | Linear  | 8.3 K  | train\n",
      "2 | linear3  | Linear  | 8.3 K  | train\n",
      "3 | linear4  | Linear  | 65     | train\n",
      "4 | dropout1 | Dropout | 0      | train\n",
      "5 | dropout3 | Dropout | 0      | train\n",
      "6 | dropout2 | Dropout | 0      | train\n",
      "---------------------------------------------\n",
      "17.1 K    Trainable params\n",
      "0         Non-trainable params\n",
      "17.1 K    Total params\n",
      "0.068     Total estimated model params size (MB)\n",
      "7         Modules in train mode\n",
      "0         Modules in eval mode\n"
     ]
    },
    {
     "name": "stdout",
     "output_type": "stream",
     "text": [
      "[Errno 17] File exists: 'models/zenodo/mlc/exponl/ecd/'\n"
     ]
    },
    {
     "name": "stderr",
     "output_type": "stream",
     "text": [
      "GPU available: True (cuda), used: True\n",
      "TPU available: False, using: 0 TPU cores\n",
      "HPU available: False, using: 0 HPUs\n"
     ]
    },
    {
     "name": "stdout",
     "output_type": "stream",
     "text": [
      "eta: 5000.0 lr: 1.0 mae: 0.4067525267601013 classifier:  exponl path: models/zenodo/mlc/exponl/ecd/\n"
     ]
    },
    {
     "name": "stderr",
     "output_type": "stream",
     "text": [
      "LOCAL_RANK: 0 - CUDA_VISIBLE_DEVICES: [0]\n",
      "LOCAL_RANK: 0 - CUDA_VISIBLE_DEVICES: [0]\n",
      "\n",
      "  | Name     | Type    | Params | Mode \n",
      "---------------------------------------------\n",
      "0 | linear1  | Linear  | 448    | train\n",
      "1 | linear2  | Linear  | 8.3 K  | train\n",
      "2 | linear3  | Linear  | 8.3 K  | train\n",
      "3 | linear4  | Linear  | 65     | train\n",
      "4 | dropout1 | Dropout | 0      | train\n",
      "5 | dropout3 | Dropout | 0      | train\n",
      "6 | dropout2 | Dropout | 0      | train\n",
      "---------------------------------------------\n",
      "17.1 K    Trainable params\n",
      "0         Non-trainable params\n",
      "17.1 K    Total params\n",
      "0.068     Total estimated model params size (MB)\n",
      "7         Modules in train mode\n",
      "0         Modules in eval mode\n",
      "\n",
      "  | Name     | Type    | Params | Mode \n",
      "---------------------------------------------\n",
      "0 | linear1  | Linear  | 448    | train\n",
      "1 | linear2  | Linear  | 8.3 K  | train\n",
      "2 | linear3  | Linear  | 8.3 K  | train\n",
      "3 | linear4  | Linear  | 65     | train\n",
      "4 | dropout1 | Dropout | 0      | train\n",
      "5 | dropout3 | Dropout | 0      | train\n",
      "6 | dropout2 | Dropout | 0      | train\n",
      "---------------------------------------------\n",
      "17.1 K    Trainable params\n",
      "0         Non-trainable params\n",
      "17.1 K    Total params\n",
      "0.068     Total estimated model params size (MB)\n",
      "7         Modules in train mode\n",
      "0         Modules in eval mode\n",
      "`Trainer.fit` stopped: `max_epochs=500` reached.\n"
     ]
    },
    {
     "name": "stdout",
     "output_type": "stream",
     "text": [
      "[Errno 17] File exists: 'models/zenodo/mlc/exponl/ecd/'\n"
     ]
    },
    {
     "name": "stderr",
     "output_type": "stream",
     "text": [
      "GPU available: True (cuda), used: True\n",
      "TPU available: False, using: 0 TPU cores\n",
      "HPU available: False, using: 0 HPUs\n",
      "LOCAL_RANK: 0 - CUDA_VISIBLE_DEVICES: [0]\n",
      "LOCAL_RANK: 0 - CUDA_VISIBLE_DEVICES: [0]\n",
      "\n",
      "  | Name     | Type    | Params | Mode \n",
      "---------------------------------------------\n",
      "0 | linear1  | Linear  | 448    | train\n",
      "1 | linear2  | Linear  | 8.3 K  | train\n",
      "2 | linear3  | Linear  | 8.3 K  | train\n",
      "3 | linear4  | Linear  | 65     | train\n",
      "4 | dropout1 | Dropout | 0      | train\n",
      "5 | dropout3 | Dropout | 0      | train\n",
      "6 | dropout2 | Dropout | 0      | train\n",
      "---------------------------------------------\n",
      "17.1 K    Trainable params\n",
      "0         Non-trainable params\n",
      "17.1 K    Total params\n",
      "0.068     Total estimated model params size (MB)\n",
      "7         Modules in train mode\n",
      "0         Modules in eval mode\n",
      "\n",
      "  | Name     | Type    | Params | Mode \n",
      "---------------------------------------------\n",
      "0 | linear1  | Linear  | 448    | train\n",
      "1 | linear2  | Linear  | 8.3 K  | train\n",
      "2 | linear3  | Linear  | 8.3 K  | train\n",
      "3 | linear4  | Linear  | 65     | train\n",
      "4 | dropout1 | Dropout | 0      | train\n",
      "5 | dropout3 | Dropout | 0      | train\n",
      "6 | dropout2 | Dropout | 0      | train\n",
      "---------------------------------------------\n",
      "17.1 K    Trainable params\n",
      "0         Non-trainable params\n",
      "17.1 K    Total params\n",
      "0.068     Total estimated model params size (MB)\n",
      "7         Modules in train mode\n",
      "0         Modules in eval mode\n"
     ]
    },
    {
     "name": "stdout",
     "output_type": "stream",
     "text": [
      "eta: 5000.0 lr: 1.0 mae: 0.401973158121109 classifier:  exponl path: models/zenodo/mlc/exponl/ecd/\n"
     ]
    }
   ],
   "source": [
    "# Data parameters\n",
    "N = 10**6\n",
    "X = np.load('data/zenodo/fold/8/X_trn.npy')[:N]\n",
    "y = np.load('data/zenodo/fold/8/y_trn.npy')[:N].astype('float32')\n",
    "data, m, s = split_data(X, y)\n",
    "\n",
    "class train_val_loader(pl.LightningDataModule):\n",
    "    def __init__(self, data, N, workers):\n",
    "        super().__init__()\n",
    "        self.N = N\n",
    "        self.data = data\n",
    "        self.workers = workers\n",
    "    def prepare_data(self):\n",
    "        X_train, X_test, y_train, y_test = self.data\n",
    "        X_train = X_train.astype(np.float32)\n",
    "        X_test = X_test.astype(np.float32)\n",
    "        y_train = y_train.astype(np.float32)\n",
    "        y_test = y_test.astype(np.float32)\n",
    "\n",
    "        self.X_train = torch.from_numpy(X_train)\n",
    "        self.X_test = torch.from_numpy(X_test)\n",
    "        self.y_train = torch.from_numpy(y_train)\n",
    "        self.y_test = torch.from_numpy(y_test)\n",
    "\n",
    "        self.train_data = TensorDataset(self.X_train, self.y_train)\n",
    "        self.test_data = TensorDataset(self.X_test, self.y_test)\n",
    "    def train_dataloader(self):\n",
    "        return DataLoader(self.train_data, batch_size=int(0.1*self.N), shuffle=True, num_workers=self.workers, persistent_workers=True)\n",
    "    def val_dataloader(self):\n",
    "        return DataLoader(self.test_data, batch_size=int(0.1*self.N), shuffle=False, num_workers=self.workers, persistent_workers=True)\n",
    "\n",
    "train_val_data = train_val_loader(data, N, 95)\n",
    "\n",
    "max_epochs = 500\n",
    "min_epochs = 15\n",
    "\n",
    "X_mae = np.load('data/zenodo/fold/8/X_tst.npy')\n",
    "X_mae = torch.from_numpy(X_mae)\n",
    "lr_tst = np.load('data/zenodo/fold/8/lr_tst.npy')\n",
    "lr_tst = torch.from_numpy(lr_tst)\n",
    "\n",
    "def mae(model_lr):\n",
    "    abs_dif = abs(model_lr(X_mae) - lr_tst)\n",
    "    return abs_dif[abs_dif < 100].mean()\n",
    "def stdae(model_lr):\n",
    "    abs_dif = abs(model_lr(X_mae) - lr_tst)\n",
    "    return abs_dif[abs_dif < 100].std()\n",
    "\n",
    "filestr = 'models/zenodo/mlc/'\n",
    "dict_list = []\n",
    "for loss_func in loss_funcs:\n",
    "    for learning_rate in lr_vals:\n",
    "        for nu in nu_vals:\n",
    "            for i in range(reps):\n",
    "            if loss_func == 'odds': loss_fn = bce; output = 'sigmoid'; lr_fn = odds_lr\n",
    "            elif loss_func == 'probit': loss_fn = probit_bce; output = 'linear'; lr_fn = probit_lr\n",
    "            elif loss_func == 'arctan': loss_fn = arctan_bce; output = 'linear'; lr_fn = arctan_lr\n",
    "    \n",
    "                params = {'loss_fun':loss_fn, 'd': 6, 'output': output, 'optimizer': optimizer, 'learning_rate': learning_rate, 'eta': eta, 'F0': F0, 'nu': nu}\n",
    "                model_path = filestr + loss_func + '/ecd/'\n",
    "    \n",
    "                checkpoint_callback = ModelCheckpoint(\n",
    "                    dirpath = model_path,\n",
    "                    filename = 'model_{}'.format(i),\n",
    "                    monitor = 'val_loss',\n",
    "                    mode = 'min',\n",
    "                    save_weights_only = True\n",
    "                )\n",
    "    \n",
    "                trainer = pl.Trainer(accelerator='cuda', devices=find_usable_cuda_devices(1), max_epochs=max_epochs, callbacks=[EarlyStopping(monitor=\"val_loss\", mode=\"min\", patience = 20), checkpoint_callback], min_epochs=min_epochs, enable_progress_bar=False)\n",
    "    \n",
    "                model = create_model_original(**params)\n",
    "                model.to(device)\n",
    "                trainer.fit(model, train_val_data)\n",
    "    \n",
    "                try: os.mkdir(model_path)\n",
    "                except OSError as error: print(error)\n",
    "    \n",
    "                train_losses = model.train_hist\n",
    "                val_losses = model.val_hist\n",
    "    \n",
    "                checkpoint = torch.load(checkpoint_callback.best_model_path)\n",
    "                model.load_state_dict(checkpoint['state_dict'])\n",
    "                model.eval()\n",
    "                lr = lr_fn(model, m , s)\n",
    "                mae_1 = mae(lr).detach().numpy()\n",
    "    \n",
    "                scan_res = dict(mae = mae_1, optimizer = optimizer, learning_rate = learning_rate, eta = eta, F0 = F0, nu = nu, classifier = loss_func, train_loss = train_losses, val_loss = val_losses, path = checkpoint_callback.best_model_path)\n",
    "                dict_list.append(scan_res)\n",
    "                print(f'eta: {eta} lr: {learning_rate} mae: {mae_1} classifier: ', loss_func, f'path: {model_path}')\n",
    "                del model"
   ]
  },
  {
   "cell_type": "code",
   "execution_count": null,
   "id": "e2b9c7bd-a41a-4d2d-82bd-1526b7b2d165",
   "metadata": {},
   "outputs": [],
   "source": [
    "with open('models/zenodo/bce/' + file_name + '.pkl', 'wb') as fout:\n",
    "    pickle.dump(results, fout)\n",
    "    fout.close()"
   ]
  },
  {
   "cell_type": "code",
   "execution_count": null,
   "id": "9023a6fe-df79-4e2f-88b5-897c5fbb4f39",
   "metadata": {},
   "outputs": [],
   "source": []
  }
 ],
 "metadata": {
  "kernelspec": {
   "display_name": "Python 3 (ipykernel)",
   "language": "python",
   "name": "python3"
  },
  "language_info": {
   "codemirror_mode": {
    "name": "ipython",
    "version": 3
   },
   "file_extension": ".py",
   "mimetype": "text/x-python",
   "name": "python",
   "nbconvert_exporter": "python",
   "pygments_lexer": "ipython3",
   "version": "3.10.12"
  }
 },
 "nbformat": 4,
 "nbformat_minor": 5
}
